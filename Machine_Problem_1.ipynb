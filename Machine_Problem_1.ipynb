{
  "nbformat": 4,
  "nbformat_minor": 0,
  "metadata": {
    "colab": {
      "provenance": [],
      "include_colab_link": true
    },
    "kernelspec": {
      "name": "python3",
      "display_name": "Python 3"
    },
    "language_info": {
      "name": "python"
    }
  },
  "cells": [
    {
      "cell_type": "markdown",
      "metadata": {
        "id": "view-in-github",
        "colab_type": "text"
      },
      "source": [
        "<a href=\"https://colab.research.google.com/github/KrimssmirK/CCRNFLRL_EXAM_COM-ML201/blob/main/Machine_Problem_1.ipynb\" target=\"_parent\"><img src=\"https://colab.research.google.com/assets/colab-badge.svg\" alt=\"Open In Colab\"/></a>"
      ]
    },
    {
      "cell_type": "code",
      "source": [
        "import numpy as np\n",
        "import matplotlib.pyplot as plt\n",
        "%matplotlib inline"
      ],
      "metadata": {
        "id": "MGrH1Jm-H9cy"
      },
      "execution_count": 70,
      "outputs": []
    },
    {
      "cell_type": "markdown",
      "source": [
        "# Machine Problem 1"
      ],
      "metadata": {
        "id": "8FD38Hgx7N_T"
      }
    },
    {
      "cell_type": "markdown",
      "source": [
        "1. Create your own environment by constructing the maze in the image below.\n",
        "2. Find the optimal policy to exit depicted by a star in the maze."
      ],
      "metadata": {
        "id": "3vN5FgMr7Lhu"
      }
    },
    {
      "cell_type": "markdown",
      "source": [
        "![MAZE.jpg](data:image/jpeg;base64,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)"
      ],
      "metadata": {
        "id": "l5oreXda1SnA"
      }
    },
    {
      "cell_type": "code",
      "execution_count": 71,
      "metadata": {
        "id": "2dPGES5wHhPo"
      },
      "outputs": [],
      "source": [
        "class gridworld:\n",
        "    \n",
        "    def __init__(self):\n",
        "        self.dim = [5, 5]\n",
        "        self.pos_A = [3, 0]\n",
        "        self.rew_A = 15\n",
        "\n",
        "        # Define starting position\n",
        "        self.start = [4, 4]\n",
        "        self.s = self.start[:]\n",
        "        self.reward = 0\n",
        "\n",
        "        # Define the position of the walls here\n",
        "        self.wall_1 = [1, 1]\n",
        "        self.wall_2 = [2, 1]\n",
        "        self.wall_3 = [3, 1]\n",
        "        self.wall_4 = [4, 1]\n",
        "            \n",
        "        # Step count\n",
        "        self.n = 0\n",
        "        self.action_space = [\"U\", \"L\", \"D\", \"R\"]\n",
        "        self.action_prob = [0.25, 0.25, 0.25, 0.25]\n",
        "    \n",
        "    # Show empty environment\n",
        "    def show_grid(self):\n",
        "        # print rows\n",
        "        for i in range(self.dim[0]):\n",
        "            print(\"-\" * (self.dim[0] * 5 + 1))\n",
        "            row = []\n",
        "            for j in range(self.dim[1]):\n",
        "                if i == self.pos_A[0] and j == self.pos_A[1]:\n",
        "                    row.append(\"| A \")\n",
        "                elif i == self.start[0] and j == self.start[1]:\n",
        "                    row.append(\"| S \")  \n",
        "                elif i == self.wall_1[0] and j == self.wall_1[1]:\n",
        "                    row.append(\"| W \")\n",
        "                elif i == self.wall_2[0] and j == self.wall_2[1]:\n",
        "                    row.append(\"| W \")\n",
        "                elif i == self.wall_3[0] and j == self.wall_3[1]:\n",
        "                    row.append(\"| W \")\n",
        "                elif i == self.wall_4[0] and j == self.wall_4[1]:\n",
        "                    row.append(\"| W \")\n",
        "                else:\n",
        "                    row.append(\"|   \")\n",
        "            row.append(\"|  \")\n",
        "            print(' '.join(row))\n",
        "        print(\"-\" * (self.dim[0] * 5 + 1))\n",
        "        \n",
        "    # Show state\n",
        "    def show_state(self):\n",
        "        # print rows\n",
        "        for i in range(self.dim[0]):\n",
        "            print(\"-\" * (self.dim[0] * 5 + 1))\n",
        "            row = []\n",
        "            for j in range(self.dim[1]):\n",
        "                if i == self.s[0] and j == self.s[1]:\n",
        "                    row.append(\"| X \")\n",
        "                elif i == self.pos_A[0] and j == self.pos_A[1]:\n",
        "                    row.append(\"| A \")   \n",
        "                elif i == self.wall_1[0] and j == self.wall_1[1]:\n",
        "                    row.append(\"| W \")\n",
        "                elif i == self.wall_2[0] and j == self.wall_2[1]:\n",
        "                    row.append(\"| W \")\n",
        "                elif i == self.wall_3[0] and j == self.wall_3[1]:\n",
        "                    row.append(\"| W \")\n",
        "                elif i == self.wall_4[0] and j == self.wall_4[1]:\n",
        "                    row.append(\"| W \")\n",
        "                else:\n",
        "                    row.append(\"|   \")\n",
        "            row.append(\"|  \")\n",
        "            print(' '.join(row))\n",
        "        print(\"-\" * (self.dim[0] * 5 + 1))\n",
        "        \n",
        "    # Give the agent an action\n",
        "    def action(self, a):  \n",
        "        if a not in self.action_space:  \n",
        "            return \"Error: Invalid action submission\"\n",
        "        # Check for special transition states\n",
        "        if self.s == self.pos_A:\n",
        "            self.reward = self.rew_A                    \n",
        "        # Move up\n",
        "        elif a == \"U\" and self.s[0] > 0 and self.s != self.wall_1 and self.s != self.wall_2 and self.s != self.wall_3 and self.s != self.wall_4:\n",
        "              self.s[0] -= 1\n",
        "              self.reward = 0      \n",
        "        # Move left\n",
        "        elif a == \"L\" and self.s[1] > 0 and self.s != self.wall_1 and self.s != self.wall_2 and self.s != self.wall_3 and self.s != self.wall_4:\n",
        "            self.s[1] -= 1\n",
        "            self.reward = 0\n",
        "        # Move down\n",
        "        elif a == \"D\" and self.s[0] < self.dim[0] - 1 and self.s != self.wall_1 and self.s != self.wall_2 and self.s != self.wall_3 and self.s != self.wall_4:\n",
        "            self.s[0] += 1\n",
        "            self.reward = 0\n",
        "        # Move right\n",
        "        elif a == \"R\" and self.s[1] < self.dim[1] - 1 and self.s != self.wall_1 and self.s != self.wall_2 and self.s != self.wall_3 and self.s != self.wall_4: \n",
        "            self.s[1] += 1\n",
        "            self.reward = 0\n",
        "        else:\n",
        "            self.reward = -1\n",
        "        self.n += 1\n",
        "        return self.s, self.reward\n",
        "            \n",
        "    def reset(self):\n",
        "        self.s = self.start\n",
        "        self.reward = 0\n",
        "        self.n = 0"
      ]
    },
    {
      "cell_type": "markdown",
      "source": [
        "We can view the environment with the show_grid() method or use the show_state() method to see where the agent is."
      ],
      "metadata": {
        "id": "kKZc8aQj8DTt"
      }
    },
    {
      "cell_type": "code",
      "source": [
        "grid = gridworld()\n",
        "grid.show_grid()"
      ],
      "metadata": {
        "id": "X9C52EK4HwjI",
        "colab": {
          "base_uri": "https://localhost:8080/"
        },
        "outputId": "2222ece7-7e6a-4131-cbab-00d4f364a22d"
      },
      "execution_count": 72,
      "outputs": [
        {
          "output_type": "stream",
          "name": "stdout",
          "text": [
            "--------------------------\n",
            "|    |    |    |    |    |  \n",
            "--------------------------\n",
            "|    | W  |    |    |    |  \n",
            "--------------------------\n",
            "|    | W  |    |    |    |  \n",
            "--------------------------\n",
            "| A  | W  |    |    |    |  \n",
            "--------------------------\n",
            "|    | W  |    |    | S  |  \n",
            "--------------------------\n"
          ]
        }
      ]
    },
    {
      "cell_type": "code",
      "source": [
        "grid.show_state()"
      ],
      "metadata": {
        "id": "tUZhwVfbZbST",
        "colab": {
          "base_uri": "https://localhost:8080/"
        },
        "outputId": "361a795c-825a-4df8-bcec-c42b04a830bb"
      },
      "execution_count": 73,
      "outputs": [
        {
          "output_type": "stream",
          "name": "stdout",
          "text": [
            "--------------------------\n",
            "|    |    |    |    |    |  \n",
            "--------------------------\n",
            "|    | W  |    |    |    |  \n",
            "--------------------------\n",
            "|    | W  |    |    |    |  \n",
            "--------------------------\n",
            "| A  | W  |    |    |    |  \n",
            "--------------------------\n",
            "|    | W  |    |    | X  |  \n",
            "--------------------------\n"
          ]
        }
      ]
    },
    {
      "cell_type": "markdown",
      "source": [
        "# Value Function"
      ],
      "metadata": {
        "id": "mXxXjuxBKDPA"
      }
    },
    {
      "cell_type": "code",
      "source": [
        "v = np.zeros(grid.dim)\n",
        "gamma = 0.9\n",
        "delta = 1e-5\n",
        "delta_t = 1\n",
        "\n",
        "while delta_t > delta:\n",
        "    v_new = np.zeros(grid.dim)\n",
        "    for i in range(grid.dim[0]):\n",
        "        for j in range(grid.dim[1]):\n",
        "            for action in grid.action_space:\n",
        "                grid.s = [i, j]\n",
        "                s, r = grid.action(action)\n",
        "                prob = grid.action_prob[grid.action_space.index(action)]\n",
        "                v_new[i, j] += prob * (r + gamma * v[s[0], s[1]])\n",
        "    delta_t = np.sum(np.abs(v - v_new))\n",
        "    v = v_new.copy()\n",
        "    \n",
        "print(v.round(1))"
      ],
      "metadata": {
        "id": "c6-z5y3DH0oP",
        "colab": {
          "base_uri": "https://localhost:8080/"
        },
        "outputId": "88e1c3cd-57df-492e-d641-4efb4e4e4f0e"
      },
      "execution_count": 74,
      "outputs": [
        {
          "output_type": "stream",
          "name": "stdout",
          "text": [
            "[[  1.4  -4.   -4.1  -3.7  -3.9]\n",
            " [  9.7 -10.   -5.2  -3.7  -3.5]\n",
            " [ 43.1 -10.   -5.6  -3.8  -3.5]\n",
            " [150.  -10.   -5.8  -4.   -3.8]\n",
            " [ 56.4 -10.   -6.2  -4.6  -4.3]]\n"
          ]
        }
      ]
    },
    {
      "cell_type": "code",
      "source": [
        "q = np.zeros((grid.dim[0], grid.dim[1], len(grid.action_space)))\n",
        "delta_t = 1\n",
        "\n",
        "while delta_t > delta:\n",
        "    q_old = q.copy()\n",
        "    for i in range(grid.dim[0]):\n",
        "        for j in range(grid.dim[1]):\n",
        "            for a in grid.action_space:\n",
        "                grid.s = [i, j]\n",
        "                s, r = grid.action(a)\n",
        "                a_index = grid.action_space.index(a)\n",
        "                q[i, j, a_index] = r + gamma * np.max(q_old[s[0], s[1]])\n",
        "    delta_t = np.sum(np.abs(q - q_old))\n",
        "    \n",
        "print(np.max(q, axis=2).round(1))"
      ],
      "metadata": {
        "id": "fOWwZZMBH7hI",
        "colab": {
          "base_uri": "https://localhost:8080/"
        },
        "outputId": "d69558cd-c77a-4efe-ce79-5b68b32bf446"
      },
      "execution_count": 75,
      "outputs": [
        {
          "output_type": "stream",
          "name": "stdout",
          "text": [
            "[[109.3  98.4  88.6  79.7  71.7]\n",
            " [121.5 -10.   79.7  71.7  64.6]\n",
            " [135.  -10.   71.7  64.6  58.1]\n",
            " [150.  -10.   64.6  58.1  52.3]\n",
            " [135.  -10.   58.1  52.3  47.1]]\n"
          ]
        }
      ]
    },
    {
      "cell_type": "markdown",
      "source": [
        "# Optimal Policy"
      ],
      "metadata": {
        "id": "xdb09iMt9KK3"
      }
    },
    {
      "cell_type": "code",
      "source": [
        "def opt_policy(q, grid):\n",
        "    q_max = np.max(q, axis=2)\n",
        "    x = np.linspace(0, grid.dim[0] - 1, grid.dim[0]) + 0.5\n",
        "    y = np.linspace(grid.dim[1] - 1, 0, grid.dim[1]) + 0.5\n",
        "    X, Y = np.meshgrid(x, y)\n",
        "    zeros = np.zeros((grid.dim))\n",
        "    \n",
        "    fig = plt.figure(figsize=(12,8))\n",
        "    ax = plt.axes()\n",
        "    \n",
        "    for i, action in enumerate(grid.action_space):\n",
        "        q_star = np.zeros((5, 5))\n",
        "        for j in range(grid.dim[0]):\n",
        "            for k in reversed(range(grid.dim[1])):\n",
        "                if q[j, k, i] == q_max[j, k]:\n",
        "                    q_star[j, k] = 0.4\n",
        "        # Plot results\n",
        "        if action == \"U\":\n",
        "            # Vectors point in positive Y-direction\n",
        "            plt.quiver(X, Y, zeros, q_star, scale=1, units='xy')\n",
        "        elif action == \"L\":\n",
        "            # Vectors point in negative X-direction\n",
        "            plt.quiver(X, Y, -q_star, zeros, scale=1, units='xy')\n",
        "        elif action == \"D\":\n",
        "            # Vectors point in negative Y-direction\n",
        "            plt.quiver(X, Y, zeros, -q_star, scale=1, units='xy')\n",
        "        elif action == \"R\":\n",
        "            # Vectors point in positive X-direction\n",
        "            plt.quiver(X, Y, q_star, zeros, scale=1, units='xy')\n",
        "        \n",
        "    plt.xlim([0, grid.dim[0]])\n",
        "    plt.ylim([0, grid.dim[1]])\n",
        "    ax.set_yticklabels([])\n",
        "    ax.set_xticklabels([])\n",
        "    plt.grid()\n",
        "    plt.show()"
      ],
      "metadata": {
        "id": "rwpQ7eqjJGJ8"
      },
      "execution_count": 76,
      "outputs": []
    },
    {
      "cell_type": "code",
      "source": [
        "opt_policy(q, grid)"
      ],
      "metadata": {
        "id": "mH57wyBfJMlM",
        "colab": {
          "base_uri": "https://localhost:8080/",
          "height": 657
        },
        "outputId": "f5ee421b-daa4-4e9c-b193-9252de65a8c6"
      },
      "execution_count": 77,
      "outputs": [
        {
          "output_type": "display_data",
          "data": {
            "text/plain": [
              "<Figure size 1200x800 with 1 Axes>"
            ],
            "image/png": "[encoded data removed]"
          },
          "metadata": {}
        }
      ]
    }
  ]
}